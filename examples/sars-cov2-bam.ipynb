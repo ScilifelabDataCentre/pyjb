{
 "cells": [
  {
   "cell_type": "code",
   "execution_count": 1,
   "id": "bd735c9f-2ec0-4fc9-8c99-c7c670eeac24",
   "metadata": {},
   "outputs": [
    {
     "name": "stdout",
     "output_type": "stream",
     "text": [
      "env: PYJB_DEV=1\n"
     ]
    }
   ],
   "source": [
    "%env PYJB_DEV=1\n",
    "from pyjb import LGVWidget, Fasta, Bam"
   ]
  },
  {
   "cell_type": "code",
   "execution_count": 3,
   "id": "8003de1d-83d1-4b17-aac0-efe74b6113dc",
   "metadata": {},
   "outputs": [],
   "source": [
    "# Aspergillus Nidulans\n",
    "sarsCov2 = Fasta(\n",
    "    sequence='data/sars-cov2/NC_045512.2.fasta.gz',\n",
    "    name=\"sars-cov2\",\n",
    ")\n",
    "align = Bam(\n",
    "    name='Alignments',\n",
    "    track='data/sars-cov2/out.sorted.bam',\n",
    "    index_file='data/sars-cov2/out.sorted.bam.csi',\n",
    "    assembly=sarsCov2\n",
    ")"
   ]
  },
  {
   "cell_type": "code",
   "execution_count": 4,
   "id": "0fc8fc2a-94f3-44fd-842c-9f5e693b2deb",
   "metadata": {},
   "outputs": [
    {
     "data": {
      "application/vnd.jupyter.widget-view+json": {
       "model_id": "2b79d55f531245ba98f76d261a149ca7",
       "version_major": 2,
       "version_minor": 1
      },
      "text/plain": [
       "LGVWidget(assembly=Fasta(sequence='data/sars-cov2/NC_045512.2.fasta.gz', name='sars-cov2', type='bgzipFasta', …"
      ]
     },
     "execution_count": 4,
     "metadata": {},
     "output_type": "execute_result"
    }
   ],
   "source": [
    "LGVWidget(\n",
    "    assembly=sarsCov2, \n",
    "    tracks=[align]\n",
    ")"
   ]
  }
 ],
 "metadata": {
  "kernelspec": {
   "display_name": "Python 3 (ipykernel)",
   "language": "python",
   "name": "python3"
  },
  "language_info": {
   "codemirror_mode": {
    "name": "ipython",
    "version": 3
   },
   "file_extension": ".py",
   "mimetype": "text/x-python",
   "name": "python",
   "nbconvert_exporter": "python",
   "pygments_lexer": "ipython3",
   "version": "3.12.1"
  }
 },
 "nbformat": 4,
 "nbformat_minor": 5
}
